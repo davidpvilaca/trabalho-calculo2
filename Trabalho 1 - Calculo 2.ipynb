{
 "cells": [
  {
   "cell_type": "markdown",
   "metadata": {},
   "source": [
    "## David Pantaleão Vilaça; Ícaro Gavazza Lima"
   ]
  },
  {
   "cell_type": "markdown",
   "metadata": {},
   "source": [
    "### Séries escolhidas:\n",
    "\n",
    "## (c) $\\sum_{n=1}^{\\infty} \\frac{ln(n)}{n^3}$\n",
    "## (III) $\\sum_{n=1}^{\\infty} \\frac{(-1)^{n+1}n^2}{n^3+4}$\n",
    "\n",
    "### Convergência das séries escolhidas\n",
    "\n",
    "---\n",
    "\n",
    "Sn = $\\sum_{n=1}^{\\infty} \\frac{ln(n)}{n^3}$\n",
    "\n",
    "Utilizando o teste da comparação: \n",
    "\n",
    "$\\sum_{n=1}^{\\infty} \\frac{ln(n)}{n^3}$ < $\\sum_{n=1}^{\\infty} \\frac{n}{n^3}$\n",
    "\n",
    "$\\sum_{n=1}^{\\infty} \\frac{n}{n^3}$ = $\\sum_{n=1}^{\\infty} \\frac{1}{n^2}$ = P-Série com p=2 $\\therefore$ converge.\n",
    "\n",
    "---\n",
    "\n",
    "Sn = $\\sum_{n=1}^{\\infty} \\frac{(-1)^{n+1}n^2}{n^3+4}$\n",
    "\n",
    "Utilizando o teste da série alternada:\n",
    "\n",
    "$\\frac{(n+1)^2}{(n+1)^3+4}<\\frac{n^2}{n^3+4}$\n",
    "\n",
    "$\\frac{(n + 1)^2}{n^3 + 3 n^2 + 3 n + 5}<\\frac{n^2}{n^3 + 4}$\n",
    "\n",
    "$\\frac{(n + 1)^2(n^3 + 4)}{n^3 + 3 n^2 + 3 n + 5}<n^2$\n",
    "\n",
    "$\\frac{(n + 1)^2(n^3 + 4)}{(n^3 + 3 n^2 + 3 n + 5)n^2} < \\frac{n^2}{n^3 + 4} < 1$ { $n \\neq 0$ }\n",
    "\n",
    "Calculando limite:\n",
    "\n",
    "$\\lim _{n\\to \\infty }\\left(\\frac{n^2}{n^3+4}\\right)$ = $\\lim _{n\\to \\infty \\:}\\left(\\frac{\\frac{1}{n}}{1+\\frac{4}{n^3}}\\right)$\n",
    "\n",
    "= $\\frac{\\lim _{n\\to \\infty \\:}\\left(\\frac{1}{n}\\right)}{\\lim _{n\\to \\infty \\:}\\left(1+\\frac{4}{n^3}\\right)}$ = $\\frac{0}{1}$ = 0\n",
    "\n",
    "$\\therefore$ converge."
   ]
  },
  {
   "cell_type": "code",
   "execution_count": 4,
   "metadata": {},
   "outputs": [],
   "source": [
    "import matplotlib.pyplot as plt\n",
    "import numpy as np\n",
    "import pandas as pd\n",
    "import texttable as tt\n",
    "from math import log\n",
    "from scipy.integrate import quad\n",
    "import scipy as sp"
   ]
  },
  {
   "cell_type": "code",
   "execution_count": 5,
   "metadata": {},
   "outputs": [],
   "source": [
    "# Precisão da soma\n",
    "ERRO_LIMITE = 0.00000001\n",
    "\n",
    "# Série c\n",
    "def serieA(n):\n",
    "    return (sp.logn(sp.e,n)) / (n**3)\n",
    "\n",
    "# Série III\n",
    "def serieB(n):\n",
    "    return ( ( ((-1)**(n+1)) * (n**2) ) / ( (n**3) + 4 ) )\n",
    "\n",
    "# Cálcular soma da série\n",
    "def calcSum(n, customSum, start = 1):\n",
    "    i = start\n",
    "    total = 0\n",
    "    while i <= n:\n",
    "        total += customSum(i)\n",
    "        i += 1\n",
    "    return total\n",
    "\n",
    "# Desenhar tabela\n",
    "def tableDraw(header, data):\n",
    "    table = tt.Texttable()\n",
    "    table.header(header)\n",
    "    table.set_cols_dtype(['i','f','f','f']) \n",
    "    table.set_precision(10)\n",
    "    for row in data:\n",
    "        table.add_row(row)\n",
    "    print(table.draw())"
   ]
  },
  {
   "cell_type": "markdown",
   "metadata": {},
   "source": [
    "# Obtendo o erro utilizando o método 1\n",
    "\n",
    "## $\\varepsilon = S(n) - S(n-1)$\n",
    "\n",
    "## Série C"
   ]
  },
  {
   "cell_type": "code",
   "execution_count": 13,
   "metadata": {},
   "outputs": [
    {
     "name": "stdout",
     "output_type": "stream",
     "text": [
      "Resultado do somatório com 879 termos: 0.19812153\n",
      "Precisão obitda: 0.00000001\n",
      "\n",
      "\n",
      "+---------------+--------------+--------------+--------------+\n",
      "| Nro Operações |      Si      |     Si+1     |     Erro     |\n",
      "+===============+==============+==============+==============+\n",
      "| 1             | 0.0000000000 | 0.0866433976 | 0.0866433976 |\n",
      "+---------------+--------------+--------------+--------------+\n",
      "| 2             | 0.0866433976 | 0.1273327416 | 0.0406893440 |\n",
      "+---------------+--------------+--------------+--------------+\n",
      "| 3             | 0.1273327416 | 0.1489935910 | 0.0216608494 |\n",
      "+---------------+--------------+--------------+--------------+\n",
      "| 4             | 0.1489935910 | 0.1618690943 | 0.0128755033 |\n",
      "+---------------+--------------+--------------+--------------+\n",
      "| 5             | 0.1618690943 | 0.1701642770 | 0.0082951827 |\n",
      "+---------------+--------------+--------------+--------------+\n",
      "| 6             | 0.1701642770 | 0.1758374844 | 0.0056732074 |\n",
      "+---------------+--------------+--------------+--------------+\n",
      "| 7             | 0.1758374844 | 0.1798988937 | 0.0040614093 |\n",
      "+---------------+--------------+--------------+--------------+\n",
      "| 8             | 0.1798988937 | 0.1829129192 | 0.0030140255 |\n",
      "+---------------+--------------+--------------+--------------+\n",
      "| 9             | 0.1829129192 | 0.1852155043 | 0.0023025851 |\n",
      "+---------------+--------------+--------------+--------------+\n",
      "| 10            | 0.1852155043 | 0.1870170785 | 0.0018015742 |\n",
      "+---------------+--------------+--------------+--------------+\n",
      "| ...           | ...          | ...          | ...          |\n",
      "+---------------+--------------+--------------+--------------+\n",
      "| 869           | 0.1981214363 | 0.1981214465 | 0.0000000103 |\n",
      "+---------------+--------------+--------------+--------------+\n",
      "| 870           | 0.1981214465 | 0.1981214568 | 0.0000000102 |\n",
      "+---------------+--------------+--------------+--------------+\n",
      "| 871           | 0.1981214568 | 0.1981214670 | 0.0000000102 |\n",
      "+---------------+--------------+--------------+--------------+\n",
      "| 872           | 0.1981214670 | 0.1981214772 | 0.0000000102 |\n",
      "+---------------+--------------+--------------+--------------+\n",
      "| 873           | 0.1981214772 | 0.1981214873 | 0.0000000101 |\n",
      "+---------------+--------------+--------------+--------------+\n",
      "| 874           | 0.1981214873 | 0.1981214974 | 0.0000000101 |\n",
      "+---------------+--------------+--------------+--------------+\n",
      "| 875           | 0.1981214974 | 0.1981215075 | 0.0000000101 |\n",
      "+---------------+--------------+--------------+--------------+\n",
      "| 876           | 0.1981215075 | 0.1981215176 | 0.0000000100 |\n",
      "+---------------+--------------+--------------+--------------+\n",
      "| 877           | 0.1981215176 | 0.1981215276 | 0.0000000100 |\n",
      "+---------------+--------------+--------------+--------------+\n",
      "| 878           | 0.1981215276 | 0.1981215375 | 0.0000000100 |\n",
      "+---------------+--------------+--------------+--------------+\n"
     ]
    }
   ],
   "source": [
    "i = 1\n",
    "erro = 1\n",
    "result1 = 0\n",
    "result2 = 0\n",
    "dataTable1 = []\n",
    "# Irá somando a sequência enquanto o erro estiver acima da precisão desejada\n",
    "while (erro > ERRO_LIMITE):\n",
    "    # Cálculos da série\n",
    "    si = serieA(i)\n",
    "    sii = serieA(i+1)\n",
    "    result1 += si\n",
    "    result2 = result1 + sii\n",
    "    erro = abs(result2 - result1)\n",
    "    # Adicionando itens à tabela\n",
    "    dataTable1.append([i, result1, result2, erro])\n",
    "    i+=1\n",
    "print(\"Resultado do somatório com %i termos: %.8f\" %(i, result1))\n",
    "print(\"Precisão obitda: %.8f\\n\\n\" % erro)\n",
    "tableDraw(['Nro Operações', 'Si', 'Si+1', 'Erro'], \\\n",
    "          dataTable1[0:10] + [['...', '...','...', '...']] + dataTable1[len(dataTable1)-10:])"
   ]
  },
  {
   "cell_type": "markdown",
   "metadata": {},
   "source": [
    "## Série III"
   ]
  },
  {
   "cell_type": "code",
   "execution_count": 6,
   "metadata": {},
   "outputs": [
    {
     "name": "stdout",
     "output_type": "stream",
     "text": [
      "Resultado do somatório com 100000001 termos: 0.02729160\n",
      "Precisão obitda: 0.00000001\n",
      "+---------------+---------------+---------------+--------------+\n",
      "| Nro Operações |      Si       |     Si+1      |     Erro     |\n",
      "+===============+===============+===============+==============+\n",
      "| 1             | 0.2000000000  | -0.1333333333 | 0.3333333333 |\n",
      "+---------------+---------------+---------------+--------------+\n",
      "| 2             | -0.1333333333 | 0.1569892473  | 0.2903225806 |\n",
      "+---------------+---------------+---------------+--------------+\n",
      "| 3             | 0.1569892473  | -0.0783048703 | 0.2352941176 |\n",
      "+---------------+---------------+---------------+--------------+\n",
      "| 4             | -0.0783048703 | 0.1154935793  | 0.1937984496 |\n",
      "+---------------+---------------+---------------+--------------+\n",
      "| 5             | 0.1154935793  | -0.0481427844 | 0.1636363636 |\n",
      "+---------------+---------------+---------------+--------------+\n",
      "| 6             | -0.0481427844 | 0.0930675903  | 0.1412103746 |\n",
      "+---------------+---------------+---------------+--------------+\n",
      "| 7             | 0.0930675903  | -0.0309634175 | 0.1240310078 |\n",
      "+---------------+---------------+---------------+--------------+\n",
      "| 8             | -0.0309634175 | 0.0795413574  | 0.1105047749 |\n",
      "+---------------+---------------+---------------+--------------+\n",
      "| 9             | 0.0795413574  | -0.0200602362 | 0.0996015936 |\n",
      "+---------------+---------------+---------------+--------------+\n",
      "| 10            | -0.0200602362 | 0.0705764679  | 0.0906367041 |\n",
      "+---------------+---------------+---------------+--------------+\n",
      "| ...           | ...           | ...           | ...          |\n",
      "+---------------+---------------+---------------+--------------+\n",
      "| 99999991      | 0.0272916137  | 0.0272916037  | 0.0000000100 |\n",
      "+---------------+---------------+---------------+--------------+\n",
      "| 99999992      | 0.0272916037  | 0.0272916137  | 0.0000000100 |\n",
      "+---------------+---------------+---------------+--------------+\n",
      "| 99999993      | 0.0272916137  | 0.0272916037  | 0.0000000100 |\n",
      "+---------------+---------------+---------------+--------------+\n",
      "| 99999994      | 0.0272916037  | 0.0272916137  | 0.0000000100 |\n",
      "+---------------+---------------+---------------+--------------+\n",
      "| 99999995      | 0.0272916137  | 0.0272916037  | 0.0000000100 |\n",
      "+---------------+---------------+---------------+--------------+\n",
      "| 99999996      | 0.0272916037  | 0.0272916137  | 0.0000000100 |\n",
      "+---------------+---------------+---------------+--------------+\n",
      "| 99999997      | 0.0272916137  | 0.0272916037  | 0.0000000100 |\n",
      "+---------------+---------------+---------------+--------------+\n",
      "| 99999998      | 0.0272916037  | 0.0272916137  | 0.0000000100 |\n",
      "+---------------+---------------+---------------+--------------+\n",
      "| 99999999      | 0.0272916137  | 0.0272916037  | 0.0000000100 |\n",
      "+---------------+---------------+---------------+--------------+\n",
      "| 100000000     | 0.0272916037  | 0.0272916137  | 0.0000000100 |\n",
      "+---------------+---------------+---------------+--------------+\n"
     ]
    }
   ],
   "source": [
    "i = 1\n",
    "erro = 1\n",
    "result1 = 0\n",
    "result2 = 0\n",
    "dataTable2 = []\n",
    "while (erro > ERRO_LIMITE):\n",
    "    # Cálculos da série\n",
    "    si = serieB(i)\n",
    "    sii = serieB(i+1)\n",
    "    result1 += si\n",
    "    result2 = result1 + sii\n",
    "    erro = abs(result2 - result1)\n",
    "    # Adicionando itens à tablea\n",
    "    if (i <= 10 or i >= 99999990 ):\n",
    "        dataTable2.append([i, result1, result2, erro])\n",
    "    i+=1\n",
    "print(\"Resultado do somatório com %i termos: %.8f\" %(i, result1))\n",
    "print(\"Precisão obitda: %.8f\" % erro)\n",
    "tableDraw(['Nro Operações', 'Si', 'Si+1', 'Erro'], \\\n",
    "          dataTable2[0:10] + [['...', '...','...', '...']] + dataTable2[11:])"
   ]
  },
  {
   "cell_type": "markdown",
   "metadata": {},
   "source": [
    "# Obtendo o erro utilizando o método 2.1\n",
    "\n",
    "## Série C\n",
    "\n",
    "### $\\varepsilon=\\int _{n+1}^{\\infty }\\:f\\left(x\\right)dx$\n",
    " \n",
    "### $\\varepsilon=\\int _{n+1}^{\\infty }\\:{\\frac{ln(x)}{x^3}}dx$\n",
    "\n",
    "### $\\int{\\frac{ln(x)}{x^3}}dx$ = $-\\frac{\\ln \\left(x\\right)}{2x^2}-\\int \\:-\\frac{1}{2x^3}dx$ = $-\\frac{\\ln \\left(x\\right)}{2x^2}-\\frac{1}{4x^2}+C$\n",
    "\n",
    "### $\\varepsilon=0-\\left(-\\frac{\\ln \\left(n+1\\right)}{2\\left(n+1\\right)^2}-\\frac{1}{4\\left(n+1\\right)^2}\\right)$\n",
    "\n",
    "### $\\varepsilon=\\frac{1}{4\\left(n+1\\right)^2}+\\frac{\\ln \\left(n+1\\right)}{2\\left(n+1\\right)^2}$"
   ]
  },
  {
   "cell_type": "code",
   "execution_count": 5,
   "metadata": {},
   "outputs": [],
   "source": [
    "def intSerieA(n):\n",
    "    return ((1/(4*((n+1)**2))) + ((sp.logn(sp.e,n+1))/(2*((n+1)**2))))"
   ]
  },
  {
   "cell_type": "code",
   "execution_count": 9,
   "metadata": {},
   "outputs": [
    {
     "name": "stdout",
     "output_type": "stream",
     "text": [
      "Resultado do somatório com 22959 termos: 0.19812623\n",
      "Precisão obitda: 0.00000001\n"
     ]
    }
   ],
   "source": [
    "i = 4999\n",
    "erro = 1\n",
    "while erro >= ERRO_LIMITE:\n",
    "    erro = intSerieA(i)\n",
    "    i += 1\n",
    "print(\"Resultado do somatório com %i termos: %.8f\" %(i, calcSum(i, serieA)))\n",
    "print(\"Precisão obitda: %.8f\" % erro)"
   ]
  },
  {
   "cell_type": "markdown",
   "metadata": {},
   "source": [
    "# Obtendo o erro utilizando o método 2.2\n",
    "\n",
    "## Série III\n",
    "\n",
    "Na demonstração de convergência da série III acima foi provado que $0 ≤ b(n+1) ≤ b(n)$.\n",
    "\n",
    "\n",
    "### $\\therefore \\varepsilon=b(n+1)=\\frac{(n+1)^2}{(n+1)^3+4}$"
   ]
  },
  {
   "cell_type": "code",
   "execution_count": 3,
   "metadata": {},
   "outputs": [],
   "source": [
    "def intSerieB(n):\n",
    "    return ((n+1)**2)/(((n+1)**3)+4)"
   ]
  },
  {
   "cell_type": "code",
   "execution_count": 4,
   "metadata": {},
   "outputs": [
    {
     "name": "stdout",
     "output_type": "stream",
     "text": [
      "Precisão obitda: 0.00000001\n",
      "Resultado do somatório com 100000001 termos: 0.02729161\n"
     ]
    }
   ],
   "source": [
    "i = 100000000\n",
    "erro = 1\n",
    "while erro >= ERRO_LIMITE:\n",
    "    erro = intSerieB(i)\n",
    "    i += 1\n",
    "print(\"Precisão obitda: %.8f\" % erro)\n",
    "print(\"Resultado do somatório com %i termos: %.8f\" %(i, calcSum(i, serieB)))"
   ]
  }
 ],
 "metadata": {
  "kernelspec": {
   "display_name": "Python 3",
   "language": "python",
   "name": "python3"
  },
  "language_info": {
   "codemirror_mode": {
    "name": "ipython",
    "version": 3
   },
   "file_extension": ".py",
   "mimetype": "text/x-python",
   "name": "python",
   "nbconvert_exporter": "python",
   "pygments_lexer": "ipython3",
   "version": "3.7.0"
  }
 },
 "nbformat": 4,
 "nbformat_minor": 2
}
