{
 "cells": [
  {
   "cell_type": "markdown",
   "metadata": {},
   "source": [
    "# Trabalho 1 - Cálculo 2"
   ]
  },
  {
   "cell_type": "markdown",
   "metadata": {},
   "source": [
    "## David Pantaleão Vilaça; Ícaro Gavazza Lima"
   ]
  },
  {
   "cell_type": "markdown",
   "metadata": {},
   "source": [
    "### Séries escolhidas: C e III"
   ]
  },
  {
   "cell_type": "code",
   "execution_count": 1,
   "metadata": {},
   "outputs": [],
   "source": [
    "import matplotlib.pyplot as plt\n",
    "import numpy as np\n",
    "import pandas as pd\n",
    "#import texttable as tt\n",
    "from math import log\n",
    "from scipy.integrate import quad\n",
    "import scipy as sp"
   ]
  },
  {
   "cell_type": "markdown",
   "metadata": {},
   "source": [
    "## Funções de apoio"
   ]
  },
  {
   "cell_type": "code",
   "execution_count": 2,
   "metadata": {},
   "outputs": [],
   "source": [
    "def sum_n(fn, start, end):\n",
    "    s = 0\n",
    "    _n = start\n",
    "    while (_n <= end):\n",
    "        s += fn(_n)\n",
    "        _n += 1\n",
    "    return s\n",
    "#-end sum_n\n",
    "\n",
    "# Exemplo de uso:\n",
    "# f = lambda x : x**2 # função que pega um número e eleva ao quadrado (x => x**2)\n",
    "# print(sum_n(f, 0, 100))"
   ]
  },
  {
   "cell_type": "code",
   "execution_count": 3,
   "metadata": {},
   "outputs": [],
   "source": [
    "funcao1 = lambda x : (sp.logn(sp.e,x))/ (x**3)\n",
    "funcao2 =  lambda x : (((-1)**(x+1)) * (x**2))/((x**3)+4)\n",
    "Erro = 0.00000001\n"
   ]
  },
  {
   "cell_type": "code",
   "execution_count": 4,
   "metadata": {},
   "outputs": [
    {
     "name": "stdout",
     "output_type": "stream",
     "text": [
      "erro:  9.98125676554551e-09\n",
      "i:  879\n"
     ]
    }
   ],
   "source": [
    "i = 2\n",
    "erro = 1\n",
    "while (erro > Erro):\n",
    "    result1 = sum_n(funcao1, 1, i)\n",
    "    result2 = sum_n(funcao1, 1, i+1)\n",
    "    erro = result2 - result1\n",
    "    i+=1\n",
    "print(\"erro: \",erro)\n",
    "print(\"i: \",i)\n",
    "    "
   ]
  },
  {
   "cell_type": "code",
   "execution_count": 5,
   "metadata": {},
   "outputs": [
    {
     "name": "stdout",
     "output_type": "stream",
     "text": [
      "erro:  1e-08\n",
      "i:  100000001\n"
     ]
    }
   ],
   "source": [
    "i = 1\n",
    "erro = 1\n",
    "while (erro > Erro):\n",
    "    erro = abs(funcao2(i))\n",
    "    i+=1\n",
    "print(\"erro: \", erro)\n",
    "print(\"i: \",i)"
   ]
  },
  {
   "cell_type": "code",
   "execution_count": null,
   "metadata": {},
   "outputs": [],
   "source": []
  }
 ],
 "metadata": {
  "kernelspec": {
   "display_name": "Python 3",
   "language": "python",
   "name": "python3"
  },
  "language_info": {
   "codemirror_mode": {
    "name": "ipython",
    "version": 3
   },
   "file_extension": ".py",
   "mimetype": "text/x-python",
   "name": "python",
   "nbconvert_exporter": "python",
   "pygments_lexer": "ipython3",
   "version": "3.7.0"
  }
 },
 "nbformat": 4,
 "nbformat_minor": 2
}
