{
 "cells": [
  {
   "cell_type": "markdown",
   "metadata": {},
   "source": [
    "# Trabalho 1 - Cálculo 2"
   ]
  },
  {
   "cell_type": "markdown",
   "metadata": {},
   "source": [
    "## David Pantaleão Vilaça; Ícaro Gavazza Lima"
   ]
  },
  {
   "cell_type": "markdown",
   "metadata": {},
   "source": [
    "### Séries escolhidas: C e III"
   ]
  },
  {
   "cell_type": "code",
   "execution_count": 1,
   "metadata": {},
   "outputs": [],
   "source": [
    "import matplotlib.pyplot as plt\n",
    "import numpy as np\n",
    "import pandas as pd\n",
    "#import texttable as tt\n",
    "from math import log\n",
    "from scipy.integrate import quad\n",
    "import scipy as sp"
   ]
  },
  {
   "cell_type": "code",
   "execution_count": 2,
   "metadata": {},
   "outputs": [],
   "source": [
    "# Precisão da soma\n",
    "ERRO_LIMITE = 0.00000001\n",
    "\n",
    "# Série c\n",
    "def serieA(n):\n",
    "    return (sp.logn(sp.e,n)) / (n**3)\n",
    "\n",
    "# Série III\n",
    "def serieB(n, isAbs=False):\n",
    "    return ( (n**2) / ( (n**3) + 4 ) ) if isAbs else ( ( ((-1)**(n+1)) * (n**2) ) / ( (n**3) + 4 ) )\n",
    "\n",
    "# Cálcular soma da série\n",
    "def calcSum(n, customSum, start = 1):\n",
    "    i = start\n",
    "    total = 0\n",
    "    while i <= n:\n",
    "        total += customSum(i)\n",
    "        i += 1\n",
    "    return total"
   ]
  },
  {
   "cell_type": "markdown",
   "metadata": {},
   "source": [
    "# Obtendo o erro utilizando o método 1"
   ]
  },
  {
   "cell_type": "markdown",
   "metadata": {},
   "source": [
    "## Série A"
   ]
  },
  {
   "cell_type": "code",
   "execution_count": 3,
   "metadata": {},
   "outputs": [
    {
     "name": "stdout",
     "output_type": "stream",
     "text": [
      "Resultado do somatório com 879 termos: 0.19812153\n",
      "Precisão obitda: 0.00000001\n"
     ]
    }
   ],
   "source": [
    "i = 1\n",
    "erro = 1\n",
    "result1 = 0\n",
    "result2 = 0\n",
    "# Irá somando a sequência enquanto o erro estiver acima da precisão desejada\n",
    "while (erro > ERRO_LIMITE):\n",
    "    result1 += serieA(i)\n",
    "    result2 = result1 + serieA(i+1)\n",
    "    erro = result2 - result1\n",
    "    i+=1\n",
    "print(\"Resultado do somatório com %i termos: %.8f\" %(i, result1))\n",
    "print(\"Precisão obitda: %.8f\" % erro)"
   ]
  },
  {
   "cell_type": "markdown",
   "metadata": {},
   "source": [
    "## Série B"
   ]
  },
  {
   "cell_type": "code",
   "execution_count": 8,
   "metadata": {},
   "outputs": [
    {
     "name": "stdout",
     "output_type": "stream",
     "text": [
      "Resultado do somatório com 100000001 termos: 0.02729160\n",
      "Precisão obitda: 0.00000001\n"
     ]
    }
   ],
   "source": [
    "i = 1\n",
    "erro = 1\n",
    "result1 = 0\n",
    "result2 = 0\n",
    "while (erro > ERRO_LIMITE):\n",
    "    result1 += serieB(i)\n",
    "    result2 = result1 + serieB(i+1)\n",
    "    erro = abs(result2 - result1)\n",
    "    i+=1\n",
    "print(\"Resultado do somatório com %i termos: %.8f\" %(i, result1))\n",
    "print(\"Precisão obitda: %.8f\" % erro)"
   ]
  },
  {
   "cell_type": "markdown",
   "metadata": {},
   "source": [
    "# Obtendo o erro utilizando o método 2.1\n",
    "\n",
    "## Série A"
   ]
  },
  {
   "cell_type": "code",
   "execution_count": 5,
   "metadata": {},
   "outputs": [],
   "source": [
    "def intSerieA(n):\n",
    "    return ((1/(4*((n+1)**2))) + ((sp.logn(sp.e,n+1))/(2*((n+1)**2))))"
   ]
  },
  {
   "cell_type": "code",
   "execution_count": 9,
   "metadata": {},
   "outputs": [
    {
     "name": "stdout",
     "output_type": "stream",
     "text": [
      "Resultado do somatório com 22959 termos: 0.19812623\n",
      "Precisão obitda: 0.00000001\n"
     ]
    }
   ],
   "source": [
    "i = 4999\n",
    "erro = 1\n",
    "while erro >= ERRO_LIMITE:\n",
    "    erro = intSerieA(i)\n",
    "    i += 1\n",
    "print(\"Resultado do somatório com %i termos: %.8f\" %(i, calcSum(i, serieA)))\n",
    "print(\"Precisão obitda: %.8f\" % erro)"
   ]
  },
  {
   "cell_type": "markdown",
   "metadata": {},
   "source": [
    "# Obtendo o erro utilizando o método 2.1\n",
    "\n",
    "## Série B\n"
   ]
  },
  {
   "cell_type": "code",
   "execution_count": 3,
   "metadata": {},
   "outputs": [],
   "source": [
    "def intSerieB(n):\n",
    "    return ((n+1)**2)/(((n+1)**3)+4)"
   ]
  },
  {
   "cell_type": "code",
   "execution_count": 4,
   "metadata": {},
   "outputs": [
    {
     "name": "stdout",
     "output_type": "stream",
     "text": [
      "Precisão obitda: 0.00000001\n",
      "Resultado do somatório com 100000001 termos: 0.02729161\n"
     ]
    }
   ],
   "source": [
    "i = 100000000\n",
    "erro = 1\n",
    "while erro >= ERRO_LIMITE:\n",
    "    erro = intSerieB(i)\n",
    "    i += 1\n",
    "print(\"Precisão obitda: %.8f\" % erro)\n",
    "print(\"Resultado do somatório com %i termos: %.8f\" %(i, calcSum(i, serieB)))"
   ]
  }
 ],
 "metadata": {
  "kernelspec": {
   "display_name": "Python 3",
   "language": "python",
   "name": "python3"
  },
  "language_info": {
   "codemirror_mode": {
    "name": "ipython",
    "version": 3
   },
   "file_extension": ".py",
   "mimetype": "text/x-python",
   "name": "python",
   "nbconvert_exporter": "python",
   "pygments_lexer": "ipython3",
   "version": "3.7.0"
  }
 },
 "nbformat": 4,
 "nbformat_minor": 2
}
