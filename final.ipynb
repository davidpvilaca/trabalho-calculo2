{
 "cells": [
  {
   "cell_type": "markdown",
   "metadata": {},
   "source": [
    "# Trabalho 1 - Cálculo 2"
   ]
  },
  {
   "cell_type": "markdown",
   "metadata": {},
   "source": [
    "## David Pantaleão Vilaça; Ícaro Gavazza Lima"
   ]
  },
  {
   "cell_type": "markdown",
   "metadata": {},
   "source": [
    "### Séries escolhidas: C e III"
   ]
  },
  {
   "cell_type": "code",
   "execution_count": 4,
   "metadata": {},
   "outputs": [],
   "source": [
    "import matplotlib.pyplot as plt\n",
    "import numpy as np\n",
    "import pandas as pd\n",
    "#import texttable as tt\n",
    "from math import log\n",
    "from scipy.integrate import quad\n",
    "import scipy as sp"
   ]
  },
  {
   "cell_type": "code",
   "execution_count": 2,
   "metadata": {},
   "outputs": [],
   "source": [
    "funcao1 = lambda x : (sp.logn(sp.e,x))/ (x**3)\n",
    "funcao2 =  lambda x : ( (x**2) / ( (x**3) + 4 ) )\n",
    "ERRO_LIMITE = 0.00000001"
   ]
  },
  {
   "cell_type": "code",
   "execution_count": 3,
   "metadata": {},
   "outputs": [
    {
     "name": "stdout",
     "output_type": "stream",
     "text": [
      "erro:  9.98125676554551e-09\n",
      "i:  879\n"
     ]
    }
   ],
   "source": [
    "i = 1\n",
    "erro = 1\n",
    "result1 = 0\n",
    "result2 = 0\n",
    "while (erro > ERRO_LIMITE):\n",
    "    result1 += funcao1(i)\n",
    "    result2 = result1 + funcao1(i+1)\n",
    "    erro = result2 - result1\n",
    "    i+=1\n",
    "print(\"erro: \",erro)\n",
    "print(\"i: \",i)"
   ]
  },
  {
   "cell_type": "code",
   "execution_count": 4,
   "metadata": {},
   "outputs": [
    {
     "name": "stdout",
     "output_type": "stream",
     "text": [
      "erro:  9.999999999940612e-09\n",
      "i:  100000000\n"
     ]
    }
   ],
   "source": [
    "i = 1\n",
    "erro = 1\n",
    "result1 = 0\n",
    "result2 = 0\n",
    "while (erro > ERRO_LIMITE):\n",
    "    result1 += funcao2(i)\n",
    "    result2 = result1 + funcao2(i+1)\n",
    "    erro = result2 - result1\n",
    "    i+=1\n",
    "print(\"erro: \", erro)\n",
    "print(\"i: \",i)"
   ]
  },
  {
   "cell_type": "code",
   "execution_count": 22,
   "metadata": {},
   "outputs": [
    {
     "name": "stdout",
     "output_type": "stream",
     "text": [
      "Erro =  1.00000250997375e-08\n"
     ]
    }
   ],
   "source": [
    "funcao3 = lambda n : ((1/(4*((n+1)**2))) + ((sp.logn(sp.e,n+1))/(2*((n+1)**2))))\n",
    "start = 4000\n",
    "while funcao3(start) >= ERRO_LIMITE:\n",
    "    start += 1\n",
    "print('Erro = ', funcao3(start-1))"
   ]
  },
  {
   "cell_type": "code",
   "execution_count": null,
   "metadata": {},
   "outputs": [],
   "source": [
    "funcao4 = lambda n : 1 / n**2\n",
    "start = 10000000\n",
    "while funcao4(start) >= ERRO_LIMITE:\n",
    "    start += 1\n",
    "print('Erro = ', funcao4(start-1))"
   ]
  },
  {
   "cell_type": "code",
   "execution_count": null,
   "metadata": {},
   "outputs": [],
   "source": []
  },
  {
   "cell_type": "code",
   "execution_count": null,
   "metadata": {},
   "outputs": [],
   "source": []
  }
 ],
 "metadata": {
  "kernelspec": {
   "display_name": "Python 3",
   "language": "python",
   "name": "python3"
  },
  "language_info": {
   "codemirror_mode": {
    "name": "ipython",
    "version": 3
   },
   "file_extension": ".py",
   "mimetype": "text/x-python",
   "name": "python",
   "nbconvert_exporter": "python",
   "pygments_lexer": "ipython3",
   "version": "3.7.0"
  }
 },
 "nbformat": 4,
 "nbformat_minor": 2
}
